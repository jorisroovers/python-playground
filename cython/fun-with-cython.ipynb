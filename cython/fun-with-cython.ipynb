{
 "cells": [
  {
   "cell_type": "code",
   "execution_count": 3,
   "metadata": {},
   "outputs": [],
   "source": [
    "%load_ext Cython"
   ]
  },
  {
   "cell_type": "code",
   "execution_count": 6,
   "metadata": {},
   "outputs": [
    {
     "name": "stdout",
     "output_type": "stream",
     "text": [
      "0.909297426826\n"
     ]
    }
   ],
   "source": [
    "# Use %%cython to indicate this is a cython cell \n",
    "%%cython\n",
    "# import c functions/libs using cimport\n",
    "cimport libc.math\n",
    "\n",
    "print(libc.math.sin(2.0))"
   ]
  },
  {
   "cell_type": "code",
   "execution_count": 17,
   "metadata": {},
   "outputs": [
    {
     "name": "stdout",
     "output_type": "stream",
     "text": [
      "9.3\n"
     ]
    }
   ],
   "source": [
    "%%cython\n",
    "# Use cdef to define c variables and use them in your python code\n",
    "\n",
    "cdef double my_c_var = 4.3\n",
    "my_python_var = 5\n",
    "\n",
    "mysum = my_c_var + my_python_var\n",
    "print mysum\n"
   ]
  },
  {
   "cell_type": "code",
   "execution_count": 18,
   "metadata": {},
   "outputs": [
    {
     "name": "stdout",
     "output_type": "stream",
     "text": [
      "10.0\n"
     ]
    }
   ],
   "source": [
    "%%cython\n",
    "\n",
    "# Use cpdef to create c functions\n",
    "cpdef double myfunc(double myparam):\n",
    "    return myparam*2\n",
    "\n",
    "print myfunc(5)"
   ]
  },
  {
   "cell_type": "code",
   "execution_count": null,
   "metadata": {
    "collapsed": true
   },
   "outputs": [],
   "source": []
  }
 ],
 "metadata": {
  "kernelspec": {
   "display_name": "Python 2",
   "language": "python",
   "name": "python2"
  },
  "language_info": {
   "codemirror_mode": {
    "name": "ipython",
    "version": 2
   },
   "file_extension": ".py",
   "mimetype": "text/x-python",
   "name": "python",
   "nbconvert_exporter": "python",
   "pygments_lexer": "ipython2",
   "version": "2.7.13"
  }
 },
 "nbformat": 4,
 "nbformat_minor": 2
}
